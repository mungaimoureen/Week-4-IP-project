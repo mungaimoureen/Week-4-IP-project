{
  "nbformat": 4,
  "nbformat_minor": 0,
  "metadata": {
    "colab": {
      "name": "Moringa Autolib project.",
      "provenance": [],
      "include_colab_link": true
    },
    "kernelspec": {
      "name": "python3",
      "display_name": "Python 3"
    }
  },
  "cells": [
    {
      "cell_type": "markdown",
      "metadata": {
        "id": "view-in-github",
        "colab_type": "text"
      },
      "source": [
        "<a href=\"https://colab.research.google.com/github/mungaimoureen/Week-4-IP-project/blob/main/Moringa_Autolib_project_.ipynb\" target=\"_parent\"><img src=\"https://colab.research.google.com/assets/colab-badge.svg\" alt=\"Open In Colab\"/></a>"
      ]
    },
    {
      "cell_type": "markdown",
      "metadata": {
        "id": "A0djLtk-i7ky"
      },
      "source": [
        "## Data Cleaning and Analysis"
      ]
    },
    {
      "cell_type": "code",
      "source": [
        "#Loading our Data from pandas, numpy, Matlib, seaborn."
      ],
      "metadata": {
        "id": "0IzuHUnjExCy"
      },
      "execution_count": null,
      "outputs": []
    },
    {
      "cell_type": "code",
      "metadata": {
        "id": "QNMZDTOYeq4R"
      },
      "source": [
        "#Load libraries\n",
        "import pandas as pd\n",
        "import numpy as np\n",
        "import matplotlib.pyplot as plt\n",
        "import seaborn as sns\n",
        "\n",
        "%matplotlib inline\n",
        "\n",
        "#Set plotting parameters\n",
        "sns.set()\n",
        "plt.rcParams['figure.figsize'] = (10.0, 8.0)"
      ],
      "execution_count": 17,
      "outputs": []
    },
    {
      "cell_type": "code",
      "metadata": {
        "id": "pTx4XXzv_erG"
      },
      "source": [
        "import warnings\n",
        "warnings.filterwarnings('ignore')"
      ],
      "execution_count": null,
      "outputs": []
    },
    {
      "cell_type": "code",
      "metadata": {
        "id": "gvz3PE3vlFqz"
      },
      "source": [
        "#Import files\n",
        "from google.colab import files"
      ],
      "execution_count": null,
      "outputs": []
    },
    {
      "cell_type": "code",
      "source": [
        "# Load dataset\n",
        "autolib_df = pd.read_csv('/content/Autolib_dataset.csv', encoding='utf8')"
      ],
      "metadata": {
        "id": "vDYe9QL0Rt__"
      },
      "execution_count": null,
      "outputs": []
    },
    {
      "cell_type": "code",
      "metadata": {
        "id": "zhii4MgnnNDZ"
      },
      "source": [
        "# Previewing data\n",
        "autolib_df.head()"
      ],
      "execution_count": null,
      "outputs": []
    },
    {
      "cell_type": "code",
      "metadata": {
        "id": "1wNvdvdUnQM_"
      },
      "source": [
        "autolib_df.tail()"
      ],
      "execution_count": null,
      "outputs": []
    },
    {
      "cell_type": "code",
      "metadata": {
        "id": "Q4hfKElmnhJl"
      },
      "source": [
        "autolib_df.sample(10)"
      ],
      "execution_count": null,
      "outputs": []
    },
    {
      "cell_type": "code",
      "metadata": {
        "id": "oz_Cc2CWn9Oj"
      },
      "source": [
        "# Investigate data\n",
        "autolib_df.info()"
      ],
      "execution_count": null,
      "outputs": []
    },
    {
      "cell_type": "code",
      "metadata": {
        "id": "wsi9D5nLtu6X"
      },
      "source": [
        "# Shape of dataset\n",
        "autolib_df.shape"
      ],
      "execution_count": null,
      "outputs": []
    },
    {
      "cell_type": "markdown",
      "metadata": {
        "id": "yR8Cdj1IoUlT"
      },
      "source": [
        "The comments and scheduel at columns are not filled"
      ]
    },
    {
      "cell_type": "code",
      "metadata": {
        "id": "Dkm50j1xoPT3"
      },
      "source": [
        "# Drop nearly empty columns\n",
        "autolib_df.drop(['Displayed comment', 'Scheduled at'], axis=1, inplace=True)"
      ],
      "execution_count": null,
      "outputs": []
    },
    {
      "cell_type": "code",
      "metadata": {
        "id": "4TVEMPiQpFKH"
      },
      "source": [
        "# Rename columns\n",
        "col_names = autolib_df.columns.tolist()\n",
        "for col in range(len(col_names)):\n",
        "  col_names[col] = col_names[col].lower().replace(\" \", \"_\")\n",
        "\n",
        "autolib_df.columns = col_names"
      ],
      "execution_count": null,
      "outputs": []
    },
    {
      "cell_type": "code",
      "metadata": {
        "id": "EHfBQsZPpYgG"
      },
      "source": [
        "# Check for duplicates\n",
        "autolib_df.duplicated().any()"
      ],
      "execution_count": null,
      "outputs": []
    },
    {
      "cell_type": "markdown",
      "metadata": {
        "id": "dTPDEoiQq9mY"
      },
      "source": [
        "There were no duplicates from the data."
      ]
    },
    {
      "cell_type": "code",
      "metadata": {
        "id": "NgtfbShIq28E"
      },
      "source": [
        "# Check for missing values\n",
        "autolib_df.isnull().sum().sort_values(ascending=False)"
      ],
      "execution_count": null,
      "outputs": []
    },
    {
      "cell_type": "markdown",
      "metadata": {
        "id": "Fyuoth7erVGu"
      },
      "source": [
        "No null values detected in the data\n"
      ]
    },
    {
      "cell_type": "code",
      "metadata": {
        "id": "7ExZblfArRiI"
      },
      "source": [
        "# Check column datatypes\n",
        "autolib_df.dtypes"
      ],
      "execution_count": null,
      "outputs": []
    },
    {
      "cell_type": "markdown",
      "metadata": {
        "id": "EXY6jP7CsoSp"
      },
      "source": [
        "Exploring our Data."
      ]
    },
    {
      "cell_type": "code",
      "metadata": {
        "id": "MARjeYKYsnlN"
      },
      "source": [
        "# Which cities are available in our dataset?\n",
        "autolib_df.city.unique()"
      ],
      "execution_count": null,
      "outputs": []
    },
    {
      "cell_type": "code",
      "metadata": {
        "id": "umS5VL_trm0e"
      },
      "source": [
        "# Extract paris data\n",
        "paris_df = autolib_df[autolib_df.city == 'Paris']"
      ],
      "execution_count": null,
      "outputs": []
    },
    {
      "cell_type": "code",
      "metadata": {
        "id": "Ht73OR4utjNL"
      },
      "source": [
        "# The paris dataframe preview\n",
        "paris_df.shape"
      ],
      "execution_count": null,
      "outputs": []
    },
    {
      "cell_type": "code",
      "metadata": {
        "id": "NYPja6ZBtoLE"
      },
      "source": [
        "paris_df.head()"
      ],
      "execution_count": null,
      "outputs": []
    },
    {
      "cell_type": "code",
      "metadata": {
        "id": "yR1Pe3SlvkGT"
      },
      "source": [
        "# Create time\n",
        "paris_df['time'] = paris_df[paris_df.columns[21:23]].apply(lambda x: \":\".join(x.astype(str)), axis = 1)"
      ],
      "execution_count": null,
      "outputs": []
    },
    {
      "cell_type": "code",
      "metadata": {
        "id": "YdNYKFNnuIoU"
      },
      "source": [
        "# Create date \n",
        "paris_df['date'] = paris_df[paris_df.columns[18:21]].apply(lambda x: '/'.join(x.astype(str)), axis=1)"
      ],
      "execution_count": null,
      "outputs": []
    },
    {
      "cell_type": "code",
      "metadata": {
        "id": "nrF_bKBO9pL9"
      },
      "source": [
        "#Combine datetime \n",
        "paris_df['datetime'] = paris_df[paris_df.columns[23:]].apply(lambda x: \" \".join(x.astype(str)), axis = 1)"
      ],
      "execution_count": null,
      "outputs": []
    },
    {
      "cell_type": "code",
      "metadata": {
        "id": "JFnspIH7ASuk"
      },
      "source": [
        "# Coverting datetime\n",
        "paris_df.datetime = pd.to_datetime(paris_df.datetime)"
      ],
      "execution_count": null,
      "outputs": []
    },
    {
      "cell_type": "markdown",
      "source": [
        "QUERING."
      ],
      "metadata": {
        "id": "sULk_hu9_kuL"
      }
    },
    {
      "cell_type": "code",
      "metadata": {
        "id": "ZflChsLACLjj"
      },
      "source": [
        "# How many unique stations are there in paris?\n",
        "paris_df.id.unique()"
      ],
      "execution_count": null,
      "outputs": []
    },
    {
      "cell_type": "code",
      "metadata": {
        "id": "QqiBaUeUD6xQ"
      },
      "source": [
        "# Investigate kind variable \n",
        "paris_df.kind.value_counts().plot(kind='bar')"
      ],
      "execution_count": null,
      "outputs": []
    },
    {
      "cell_type": "markdown",
      "metadata": {
        "id": "SIM0vpqVH4IW"
      },
      "source": [
        "Output explanation.\n",
        "Station and space has all the resources.\n",
        "parking has no charging slots,\n",
        "centre do not have no resources.\n"
      ]
    },
    {
      "cell_type": "code",
      "metadata": {
        "id": "zRC7CgNoFFDm"
      },
      "source": [
        "# rental status\n",
        "paris_df.rental_status.value_counts()"
      ],
      "execution_count": null,
      "outputs": []
    },
    {
      "cell_type": "markdown",
      "metadata": {
        "id": "jhGl-Hk-ILxK"
      },
      "source": [
        "Resources are only available when \"operational\", except for \"broken\" which will have Slots, but other resources that is, Bluecars, utilib or charging slots.\n"
      ]
    },
    {
      "cell_type": "code",
      "metadata": {
        "id": "FgmDqinqFJQA"
      },
      "source": [
        "# station type\n",
        "paris_df['station_type'].value_counts()"
      ],
      "execution_count": null,
      "outputs": []
    },
    {
      "cell_type": "markdown",
      "source": [
        "Resources available at sub_centers."
      ],
      "metadata": {
        "id": "PPWQeuZg_7Wq"
      }
    },
    {
      "cell_type": "code",
      "metadata": {
        "id": "En1zimGkJKG-"
      },
      "source": [
        "# station status\n",
        "paris_df['status'].value_counts()"
      ],
      "execution_count": null,
      "outputs": []
    },
    {
      "cell_type": "markdown",
      "metadata": {
        "id": "lOeFzLmqJ4He"
      },
      "source": [
        "There are no resources available for \"scheduled\", which is the status if there is a \"scheduled at\" date but there can be resources associated with \"closed\" stations."
      ]
    },
    {
      "cell_type": "code",
      "metadata": {
        "id": "J5MrDat9LT37"
      },
      "source": [
        "# charging status\n",
        "paris_df.charging_status.value_counts()"
      ],
      "execution_count": null,
      "outputs": []
    },
    {
      "cell_type": "markdown",
      "metadata": {
        "id": "ToYb14l6KnoP"
      },
      "source": [
        "A functioning station has the following resources:\n",
        "Blue cars\n",
        "Utilib / Utilib 1.4\n",
        "Charging slots\n",
        "Parking slots\n",
        "\n"
      ]
    },
    {
      "cell_type": "code",
      "metadata": {
        "id": "h2xCBzQ1Ooee"
      },
      "source": [
        "#ruling out stations with center kind\n",
        "available_stations = available_stations[available_stations.kind != 'CENTER']"
      ],
      "execution_count": null,
      "outputs": []
    },
    {
      "cell_type": "code",
      "metadata": {
        "id": "mXHxNnuLQNM8"
      },
      "source": [
        "# ruling out stations with a scheduled status\n",
        "available_stations = available_stations[available_stations.status != 'scheduled']"
      ],
      "execution_count": null,
      "outputs": []
    },
    {
      "cell_type": "code",
      "metadata": {
        "id": "kjSRyZcxOq4n"
      },
      "source": [
        "# ruling out stations with subs_center station type\n",
        "available_stations = available_stations[available_stations.station_type != 'subs_center']"
      ],
      "execution_count": null,
      "outputs": []
    },
    {
      "cell_type": "code",
      "metadata": {
        "id": "EfAG07BzJ1CA"
      },
      "source": [
        "# ruling out stations without operational rental status\n",
        "available_stations = paris_df[paris_df.rental_status == 'operational']"
      ],
      "execution_count": null,
      "outputs": []
    },
    {
      "cell_type": "code",
      "metadata": {
        "id": "vitomswqQ03I"
      },
      "source": [
        "# available_stations.shape"
      ],
      "execution_count": null,
      "outputs": []
    },
    {
      "cell_type": "code",
      "metadata": {
        "id": "bFSQJPzZQ3uw"
      },
      "source": [
        "# how many times does each station occurs in the dataset\n",
        "station_occurences = available_stations.id.value_counts(ascending=False)\n",
        "station_occurences"
      ],
      "execution_count": null,
      "outputs": []
    },
    {
      "cell_type": "markdown",
      "metadata": {
        "id": "xL4LGxVWRbjJ"
      },
      "source": [
        "Eliminate stations that only appear once. have not much relevance."
      ]
    },
    {
      "cell_type": "code",
      "metadata": {
        "id": "ZPuCOkogRaKq"
      },
      "source": [
        "#  stations that occur more than once\n",
        "stations_active = station_occurences[station_occurences > 1 ].index.tolist()"
      ],
      "execution_count": null,
      "outputs": []
    },
    {
      "cell_type": "code",
      "metadata": {
        "id": "_oPe0FLwRBSu"
      },
      "source": [
        "# stations that are onli active\n",
        "available_stations = available_stations[available_stations['id'].isin(stations_active)]"
      ],
      "execution_count": null,
      "outputs": []
    },
    {
      "cell_type": "code",
      "metadata": {
        "id": "T-x1YEtKSWi4"
      },
      "source": [
        "available_stations.head()"
      ],
      "execution_count": null,
      "outputs": []
    },
    {
      "cell_type": "code",
      "metadata": {
        "id": "z_cVDnklUvvj"
      },
      "source": [
        "# A dataframe with blue car counter data\n",
        "blue_car_flow = available_stations[['postal_code','bluecar_counter','id','datetime']]"
      ],
      "execution_count": null,
      "outputs": []
    },
    {
      "cell_type": "code",
      "metadata": {
        "id": "bA7rsQPpaAWk"
      },
      "source": [
        "# Sorting data by id and datetime column\n",
        "blue_car_flow = blue_car_flow.sort_values(by=['id','datetime'])"
      ],
      "execution_count": null,
      "outputs": []
    },
    {
      "cell_type": "code",
      "metadata": {
        "id": "cyIzWHUNaKBR"
      },
      "source": [
        "blue_car_flow.head()"
      ],
      "execution_count": null,
      "outputs": []
    },
    {
      "cell_type": "code",
      "metadata": {
        "id": "2SMomUBeWRx5"
      },
      "source": [
        "# Creating a column which constitutes difference in subsequent rows\n",
        "blue_car_flow['diff'] = blue_car_flow.groupby(['id'])['bluecar_counter'].diff().fillna(0)"
      ],
      "execution_count": null,
      "outputs": []
    },
    {
      "cell_type": "code",
      "metadata": {
        "id": "YMAmY0gFW3K8"
      },
      "source": [
        "blue_car_flow"
      ],
      "execution_count": null,
      "outputs": []
    },
    {
      "cell_type": "markdown",
      "metadata": {
        "id": "aLbBYAQqzCZs"
      },
      "source": [
        "A positive value indicates a **dropoff** as the number of blue cars available increases, while a negative value indicates a **pickup** as the number of blue cars available decreases."
      ]
    },
    {
      "cell_type": "code",
      "metadata": {
        "id": "QAbdsznf_Ttj"
      },
      "source": [
        "# We need an hour variable\n",
        "blue_car_flow['hour'] = blue_car_flow.datetime.dt.hour"
      ],
      "execution_count": null,
      "outputs": []
    },
    {
      "cell_type": "code",
      "metadata": {
        "id": "FeYYOjo_aZhn"
      },
      "source": [
        "# Creating dataframe consisting of only pickups\n",
        "bluecar_pickups = blue_car_flow[blue_car_flow['diff'] < 0]"
      ],
      "execution_count": null,
      "outputs": []
    },
    {
      "cell_type": "code",
      "metadata": {
        "id": "6zvtSjDwzANI"
      },
      "source": [
        "bluecar_pickups.head()"
      ],
      "execution_count": null,
      "outputs": []
    },
    {
      "cell_type": "code",
      "metadata": {
        "id": "R8DKg7JE0UtH"
      },
      "source": [
        "bluecar_pickups.shape"
      ],
      "execution_count": null,
      "outputs": []
    },
    {
      "cell_type": "code",
      "metadata": {
        "id": "wywOKMtW5xG3"
      },
      "source": [
        "# To get the most popular hour we will look at the frequency of each hour in the pickups data\n",
        "bluecar_pickups.hour.value_counts().sort_values(ascending=False)"
      ],
      "execution_count": null,
      "outputs": []
    },
    {
      "cell_type": "code",
      "metadata": {
        "id": "64jhuPQp055p"
      },
      "source": [
        "sns.set(style='whitegrid')\n",
        "y_ax =  bluecar_pickups.hour.value_counts().sort_values(ascending=False)\n",
        "x_ax =  y_ax.index\n",
        "frequency = plt.figure()\n",
        "sns.barplot(x= x_ax, y= y_ax, palette='pastel')\n",
        "plt.xlabel('Hour of the day')\n",
        "plt.ylabel('Pickup Frequency')\n",
        "plt.title('Pickup frequency per hour of the day',fontdict={'fontsize':15})\n",
        "plt.savefig(\"frequency.png\")\n",
        "files.download('frequency.png')"
      ],
      "execution_count": null,
      "outputs": []
    },
    {
      "cell_type": "markdown",
      "metadata": {
        "id": "Hm8-oupt-VBa"
      },
      "source": [
        "From the graph above, most pickups are at 9:00 pm - 10:00 pm"
      ]
    },
    {
      "cell_type": "code",
      "metadata": {
        "id": "dnwCi6ci1YPm"
      },
      "source": [
        "# Creating dataframe consisting of only drop offs\n",
        "bluecar_dropoffs = blue_car_flow[blue_car_flow['diff'] > 0]"
      ],
      "execution_count": null,
      "outputs": []
    },
    {
      "cell_type": "code",
      "metadata": {
        "id": "jbXzLUsP_8Rt"
      },
      "source": [
        "bluecar_dropoffs.head()"
      ],
      "execution_count": null,
      "outputs": []
    },
    {
      "cell_type": "code",
      "metadata": {
        "id": "7tNEmAyMAG2P"
      },
      "source": [
        "# Most popular hour for dropoffs\n",
        "bluecar_dropoffs.hour.value_counts().sort_values(ascending=False)"
      ],
      "execution_count": null,
      "outputs": []
    },
    {
      "cell_type": "code",
      "metadata": {
        "id": "QTWUZtk2AaQi"
      },
      "source": [
        "# Plotting dropoff frequency\n",
        "y_val = bluecar_dropoffs.hour.value_counts().sort_values(ascending=False)\n",
        "x_val = y_val.index\n",
        "sns.barplot(x = x_val, y=y_val, palette='pastel')\n",
        "plt.xlabel('Hour of the day')\n",
        "plt.ylabel('Dropoff frequency')\n",
        "plt.title('Dropoff frequency per hour of the day',fontdict={'fontsize':15})\n",
        "plt.savefig(\"dropoff.png\")\n",
        "files.download('dropoff.png')"
      ],
      "execution_count": null,
      "outputs": []
    },
    {
      "cell_type": "markdown",
      "metadata": {
        "id": "-NIzWyW_CYM0"
      },
      "source": [
        "Most drop offs are between 12:00 - 1:00 pm"
      ]
    }
  ]
}